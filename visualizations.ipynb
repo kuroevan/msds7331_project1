{
 "cells": [
  {
   "cell_type": "markdown",
   "metadata": {},
   "source": [
    "# MSDS 7331 - Data Mining"
   ]
  },
  {
   "cell_type": "markdown",
   "metadata": {},
   "source": [
    "# Assignment 1"
   ]
  },
  {
   "cell_type": "markdown",
   "metadata": {},
   "source": [
    "## Kickstarter Project Prediction"
   ]
  },
  {
   "cell_type": "markdown",
   "metadata": {},
   "source": [
    "by: Evangelos Giakoumakis, Ramin Farhanian, Bryan Cikatz"
   ]
  },
  {
   "cell_type": "code",
   "execution_count": null,
   "metadata": {
    "collapsed": true
   },
   "outputs": [],
   "source": [
    "    # loading the dataset\n",
    "    import pandas as pd\n",
    "    import numpy as np\n",
    "    df = pd.read_csv('dataset/ks-projects-201612.csv',  sep = ',')    \n",
    "    # abcd"
   ]
  },
  {
   "cell_type": "code",
   "execution_count": 52,
   "metadata": {},
   "outputs": [
    {
     "name": "stdout",
     "output_type": "stream",
     "text": [
      "     uniqueId                                              name   \\\n",
      "0  1000002330                    The Songs of Adelaide & Abullah   \n",
      "1  1000004038                                     Where is Hank?   \n",
      "2  1000007540  ToshiCapital Rekordz Needs Help to Complete Album   \n",
      "3  1000011046  Community Film Project: The Art of Neighborhoo...   \n",
      "4  1000014025                               Monarch Espresso Bar   \n",
      "\n",
      "        category  main_category  currency       deadline   goal   \\\n",
      "0          Poetry     Publishing       GBP  10/9/15 11:36   1000   \n",
      "1  Narrative Film   Film & Video       USD   2/26/13 0:20  45000   \n",
      "2           Music          Music       USD   4/16/12 4:24   5000   \n",
      "3    Film & Video   Film & Video       USD   8/29/15 1:00  19500   \n",
      "4     Restaurants           Food       USD   4/1/16 13:38  50000   \n",
      "\n",
      "       launched  pledged       state  backers  country  usd pledged   \\\n",
      "0  8/11/15 12:12        0      failed        0       GB            0   \n",
      "1   1/12/13 0:20      220      failed        3       US          220   \n",
      "2   3/17/12 3:24        1      failed        1       US            1   \n",
      "3    7/4/15 8:35     1283    canceled       14       US         1283   \n",
      "4  2/26/16 13:38    52375  successful      224       US        52375   \n",
      "\n",
      "  Unnamed: 13 Unnamed: 14 Unnamed: 15  Unnamed: 16  \n",
      "0         NaN         NaN         NaN          NaN  \n",
      "1         NaN         NaN         NaN          NaN  \n",
      "2         NaN         NaN         NaN          NaN  \n",
      "3         NaN         NaN         NaN          NaN  \n",
      "4         NaN         NaN         NaN          NaN  \n"
     ]
    }
   ],
   "source": [
    "print(df.head())"
   ]
  },
  {
   "cell_type": "code",
   "execution_count": 53,
   "metadata": {},
   "outputs": [
    {
     "name": "stdout",
     "output_type": "stream",
     "text": [
      "<class 'pandas.core.frame.DataFrame'>\n",
      "RangeIndex: 323750 entries, 0 to 323749\n",
      "Data columns (total 17 columns):\n",
      "uniqueId          323750 non-null int64\n",
      "name              323748 non-null object\n",
      "category          323745 non-null object\n",
      "main_category     323750 non-null object\n",
      "currency          323750 non-null object\n",
      "deadline          323750 non-null object\n",
      "goal              323750 non-null object\n",
      "launched          323750 non-null object\n",
      "pledged           323750 non-null object\n",
      "state             323750 non-null object\n",
      "backers           323750 non-null object\n",
      "country           323750 non-null object\n",
      "usd pledged       319960 non-null object\n",
      "Unnamed: 13       625 non-null object\n",
      "Unnamed: 14       12 non-null object\n",
      "Unnamed: 15       4 non-null object\n",
      "Unnamed: 16       1 non-null float64\n",
      "dtypes: float64(1), int64(1), object(15)\n",
      "memory usage: 42.0+ MB\n",
      "None\n"
     ]
    }
   ],
   "source": [
    "print (df.info())"
   ]
  },
  {
   "cell_type": "code",
   "execution_count": 48,
   "metadata": {},
   "outputs": [
    {
     "name": "stdout",
     "output_type": "stream",
     "text": [
      "uniqueId            int64\n",
      "name               object\n",
      "category           object\n",
      "main_category      object\n",
      "currency           object\n",
      "deadline           object\n",
      "goal               object\n",
      "launched           object\n",
      "pledged            object\n",
      "state              object\n",
      "backers            object\n",
      "country            object\n",
      "usd pledged        object\n",
      "Unnamed: 13        object\n",
      "Unnamed: 14        object\n",
      "Unnamed: 15        object\n",
      "Unnamed: 16       float64\n",
      "dtype: object\n"
     ]
    }
   ],
   "source": [
    "print (df.dtypes)\n"
   ]
  },
  {
   "cell_type": "code",
   "execution_count": 49,
   "metadata": {},
   "outputs": [
    {
     "data": {
      "text/html": [
       "<div>\n",
       "<style>\n",
       "    .dataframe thead tr:only-child th {\n",
       "        text-align: right;\n",
       "    }\n",
       "\n",
       "    .dataframe thead th {\n",
       "        text-align: left;\n",
       "    }\n",
       "\n",
       "    .dataframe tbody tr th {\n",
       "        vertical-align: top;\n",
       "    }\n",
       "</style>\n",
       "<table border=\"1\" class=\"dataframe\">\n",
       "  <thead>\n",
       "    <tr style=\"text-align: right;\">\n",
       "      <th></th>\n",
       "      <th>uniqueId</th>\n",
       "      <th>Unnamed: 16</th>\n",
       "    </tr>\n",
       "  </thead>\n",
       "  <tbody>\n",
       "    <tr>\n",
       "      <th>count</th>\n",
       "      <td>3.237500e+05</td>\n",
       "      <td>1.0</td>\n",
       "    </tr>\n",
       "    <tr>\n",
       "      <th>mean</th>\n",
       "      <td>1.074943e+09</td>\n",
       "      <td>25.0</td>\n",
       "    </tr>\n",
       "    <tr>\n",
       "      <th>std</th>\n",
       "      <td>6.193352e+08</td>\n",
       "      <td>NaN</td>\n",
       "    </tr>\n",
       "    <tr>\n",
       "      <th>min</th>\n",
       "      <td>5.971000e+03</td>\n",
       "      <td>25.0</td>\n",
       "    </tr>\n",
       "    <tr>\n",
       "      <th>25%</th>\n",
       "      <td>5.375802e+08</td>\n",
       "      <td>25.0</td>\n",
       "    </tr>\n",
       "    <tr>\n",
       "      <th>50%</th>\n",
       "      <td>1.075818e+09</td>\n",
       "      <td>25.0</td>\n",
       "    </tr>\n",
       "    <tr>\n",
       "      <th>75%</th>\n",
       "      <td>1.611070e+09</td>\n",
       "      <td>25.0</td>\n",
       "    </tr>\n",
       "    <tr>\n",
       "      <th>max</th>\n",
       "      <td>2.147476e+09</td>\n",
       "      <td>25.0</td>\n",
       "    </tr>\n",
       "  </tbody>\n",
       "</table>\n",
       "</div>"
      ],
      "text/plain": [
       "           uniqueId  Unnamed: 16\n",
       "count  3.237500e+05          1.0\n",
       "mean   1.074943e+09         25.0\n",
       "std    6.193352e+08          NaN\n",
       "min    5.971000e+03         25.0\n",
       "25%    5.375802e+08         25.0\n",
       "50%    1.075818e+09         25.0\n",
       "75%    1.611070e+09         25.0\n",
       "max    2.147476e+09         25.0"
      ]
     },
     "execution_count": 49,
     "metadata": {},
     "output_type": "execute_result"
    }
   ],
   "source": [
    "df.describe()\n",
    "        "
   ]
  },
  {
   "cell_type": "markdown",
   "metadata": {
    "collapsed": true
   },
   "source": [
    "Column Metadata\n",
    "\n",
    "column name                         Description                Type\n",
    "uniqueID                            Id of project              String\n",
    "name         Title of the project\n",
    "String\n",
    "category\n",
    "Kickstarter sub category\n",
    "String\n",
    "main_category\n",
    "Kickstarter main category\n",
    "String\n",
    "currency\n",
    "Intial currency of the project\n",
    "String\n",
    "deadline\n",
    "Project deadline\n",
    "DateTime\n",
    "goal\n",
    "Project goal\n",
    "Numeric\n",
    "launched\n",
    "Project launch date\n",
    "DateTime\n",
    "pledged\n",
    "Amount pledge in inital currency\n",
    "Numeric\n",
    "state\n",
    "Project current state\n",
    "String\n",
    "backers\n",
    "Number of backers\n",
    "Numeric\n",
    "country\n",
    "Country of project creator\n",
    "String\n",
    "usd pledged\n",
    "Kickstarter conversion of pledged amount in USD\n",
    "Numeric\n"
   ]
  },
  {
   "cell_type": "markdown",
   "metadata": {},
   "source": []
  },
  {
   "cell_type": "code",
   "execution_count": null,
   "metadata": {
    "collapsed": true
   },
   "outputs": [],
   "source": [
    "# remove formating error in dataset\n",
    "del df['Unnamed: 13']\n",
    "del df['Unnamed: 14']\n",
    "del df['Unnamed: 15']\n",
    "del df['Unnamed: 16']\n",
    "\n",
    "# get general dataset info\n",
    "df.info()\n",
    "df.describe()"
   ]
  },
  {
   "cell_type": "code",
   "execution_count": null,
   "metadata": {
    "collapsed": true
   },
   "outputs": [],
   "source": [
    "# make state boolean so we can see the percentage of success/failures\n",
    "df['bl_states'] = df['state']\n",
    "\n",
    "df.info()\n",
    "df.describe()"
   ]
  },
  {
   "cell_type": "code",
   "execution_count": null,
   "metadata": {
    "collapsed": true
   },
   "outputs": [],
   "source": [
    "# plot money pledged by success/failures\n",
    "import matplotlib.pyplot as plt\n",
    "\n",
    "df.boxplot(column='pledged', by = 'state')"
   ]
  }
 ],
 "metadata": {
  "kernelspec": {
   "display_name": "Python 2",
   "language": "python",
   "name": "python2"
  },
  "language_info": {
   "codemirror_mode": {
    "name": "ipython",
    "version": 2
   },
   "file_extension": ".py",
   "mimetype": "text/x-python",
   "name": "python",
   "nbconvert_exporter": "python",
   "pygments_lexer": "ipython2",
   "version": "2.7.14"
  }
 },
 "nbformat": 4,
 "nbformat_minor": 1
}
